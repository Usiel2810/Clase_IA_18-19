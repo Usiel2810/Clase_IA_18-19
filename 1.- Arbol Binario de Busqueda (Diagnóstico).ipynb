{
 "cells": [
  {
   "cell_type": "code",
   "execution_count": 11,
   "metadata": {},
   "outputs": [],
   "source": [
    "class Nodo:\n",
    "    def __init__(self, nom):\n",
    "        self.nom = nom\n",
    "        self.izq = None\n",
    "        self.der = None\n",
    "\n",
    "class Arbol:\n",
    "    def __init__(self):\n",
    "        self.raiz = None\n",
    "\n",
    "    def vacio(self):\n",
    "        return self.raiz is None\n",
    "\n",
    "    def buscar_Nodo(self, nom):\n",
    "        return self._buscar_NodoRec(self.raiz, nom)\n",
    "\n",
    "    def _buscar_NodoRec(self, nodo, nom):\n",
    "        if nodo is None or nodo.nom == nom:\n",
    "            return nodo\n",
    "\n",
    "        if nom < nodo.nom:\n",
    "            return self._buscar_NodoRec(nodo.izq, nom)\n",
    "        else:\n",
    "            return self._buscar_NodoRec(nodo.der, nom)\n",
    "\n",
    "    def insertar(self, nom):\n",
    "        if self.vacio():\n",
    "            self.raiz = Nodo(nom)\n",
    "        else:\n",
    "            self._insertar_Rec(self.raiz, nom)\n",
    "\n",
    "    def _insertar_Rec(self, nodo, nom):\n",
    "        if nom < nodo.nom:\n",
    "            if nodo.izq is None:\n",
    "                nodo.izq = Nodo(nom)\n",
    "            else:\n",
    "                self._insertar_Rec(nodo.izq, nom)\n",
    "        elif nom > nodo.nom:\n",
    "            if nodo.der is None:\n",
    "                nodo.der = Nodo(nom)\n",
    "            else:\n",
    "                self._insertar_Rec(nodo.der, nom)"
   ]
  },
  {
   "cell_type": "code",
   "execution_count": 12,
   "metadata": {},
   "outputs": [],
   "source": [
    "# Crear el árbol e insertar nodos\n",
    "arbol = Arbol()\n",
    "arbol.insertar(\"Miguel\")\n",
    "arbol.insertar(\"Mario\")\n",
    "arbol.insertar(\"Karen\")\n",
    "arbol.insertar(\"Lucia\")\n",
    "arbol.insertar(\"Marcos\")\n",
    "arbol.insertar(\"Zara\")"
   ]
  },
  {
   "cell_type": "code",
   "execution_count": 13,
   "metadata": {},
   "outputs": [
    {
     "name": "stdout",
     "output_type": "stream",
     "text": [
      "Nodo Encontrado = Miguel\n"
     ]
    }
   ],
   "source": [
    "# Buscar un nodo (corregido el nombre del método)\n",
    "nodo = arbol.buscar_Nodo(\"Miguel\")  # Se cambió buscarNodo por buscar_Nodo para coincidir con la definición\n",
    "if nodo:\n",
    "    print(f\"Nodo Encontrado = {nodo.nom}\")\n",
    "else:\n",
    "    print(\"Nodo No Encontrado\")"
   ]
  },
  {
   "cell_type": "code",
   "execution_count": 14,
   "metadata": {},
   "outputs": [
    {
     "name": "stdout",
     "output_type": "stream",
     "text": [
      "¿El Árbol No Tiene Nodos? False\n"
     ]
    }
   ],
   "source": [
    "# Verificar si el árbol está vacío\n",
    "print(f\"¿El Árbol No Tiene Nodos? {arbol.vacio()}\")"
   ]
  }
 ],
 "metadata": {
  "kernelspec": {
   "display_name": "Python 3",
   "language": "python",
   "name": "python3"
  },
  "language_info": {
   "codemirror_mode": {
    "name": "ipython",
    "version": 3
   },
   "file_extension": ".py",
   "mimetype": "text/x-python",
   "name": "python",
   "nbconvert_exporter": "python",
   "pygments_lexer": "ipython3",
   "version": "3.11.9"
  }
 },
 "nbformat": 4,
 "nbformat_minor": 4
}
